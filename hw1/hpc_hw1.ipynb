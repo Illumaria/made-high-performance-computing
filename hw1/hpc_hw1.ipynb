{
  "nbformat": 4,
  "nbformat_minor": 0,
  "metadata": {
    "colab": {
      "name": "hpc_hw1.ipynb",
      "provenance": [],
      "collapsed_sections": []
    },
    "kernelspec": {
      "name": "python3",
      "display_name": "Python 3"
    },
    "language_info": {
      "name": "python"
    }
  },
  "cells": [
    {
      "cell_type": "markdown",
      "metadata": {
        "id": "CNyI9SVVttVI"
      },
      "source": [
        "# **Part 1. Performance Prediction**"
      ]
    },
    {
      "cell_type": "markdown",
      "metadata": {
        "id": "RTuQmTrnbxut"
      },
      "source": [
        "## **Import libraries**"
      ]
    },
    {
      "cell_type": "code",
      "metadata": {
        "id": "qiJr1zQhYiMH"
      },
      "source": [
        "import re\n",
        "import requests\n",
        "from lxml import etree\n",
        "\n",
        "import matplotlib.pyplot as plt\n",
        "import numpy as np\n",
        "import pandas as pd\n",
        "from sklearn.linear_model import LinearRegression"
      ],
      "execution_count": 1,
      "outputs": []
    },
    {
      "cell_type": "code",
      "metadata": {
        "id": "G_Y6RPPyMj3T"
      },
      "source": [
        "FONT_SIZE = 16\n",
        "LABEL_SIZE = 14\n",
        "\n",
        "plt.style.use('bmh')\n",
        "plt.rcParams.update({'font.size': FONT_SIZE})\n",
        "plt.rcParams.update({'xtick.labelsize': LABEL_SIZE})\n",
        "plt.rcParams.update({'ytick.labelsize': LABEL_SIZE})\n",
        "plt.rcParams.update({'legend.fontsize': LABEL_SIZE})"
      ],
      "execution_count": 2,
      "outputs": []
    },
    {
      "cell_type": "markdown",
      "metadata": {
        "id": "buYoT7yZbgzL"
      },
      "source": [
        "## **Parse data**"
      ]
    },
    {
      "cell_type": "code",
      "metadata": {
        "id": "a2bFtEPSa-2q"
      },
      "source": [
        "URL = 'https://www.top500.org/statistics/perfdevel/'\n",
        "\n",
        "response = requests.get(URL)\n",
        "root = etree.fromstring(response.text, parser=etree.HTMLParser())\n",
        "text = root.xpath('//script[@type=\"text/javascript\"]')[9].text"
      ],
      "execution_count": 3,
      "outputs": []
    },
    {
      "cell_type": "code",
      "metadata": {
        "id": "OylKe29ggLxt"
      },
      "source": [
        "unit_mapping = {\n",
        "    'GFlop/s': 1e9,\n",
        "    'TFlop/s': 1e12,\n",
        "    'PFlop/s': 1e15,\n",
        "    'EFlop/s': 1e18,\n",
        "}\n",
        "\n",
        "dates = [x[1] for x in re.findall('(\"(\\d{2}\\/\\d{4}): #1)', text)]\n",
        "\n",
        "years = [int(x.split('/')[1]) for x in dates]\n",
        "\n",
        "months = [int(x.split('/')[0]) for x in dates]\n",
        "\n",
        "n1_flops = [float(x[0]) * unit_mapping[x[1]]\n",
        "            for x in re.findall('#1 = (\\d+\\.\\d+) (\\w+\\/s)', text)]\n",
        "\n",
        "n500_flops = [float(x[0]) * unit_mapping[x[1]]\n",
        "              for x in re.findall('#500 = (\\d+\\.\\d+) (\\w+\\/s)', text)]"
      ],
      "execution_count": 4,
      "outputs": []
    },
    {
      "cell_type": "code",
      "metadata": {
        "colab": {
          "base_uri": "https://localhost:8080/",
          "height": 206
        },
        "id": "hzj9UL5xmtVp",
        "outputId": "fef4ad50-e18a-4fbd-a15b-d7c47c58dd95"
      },
      "source": [
        "df = pd.DataFrame({'year': years,\n",
        "                   'month': months,\n",
        "                   'n1': n1_flops,\n",
        "                   'n500': n500_flops})\n",
        "df.head()"
      ],
      "execution_count": 5,
      "outputs": [
        {
          "output_type": "execute_result",
          "data": {
            "text/html": [
              "<div>\n",
              "<style scoped>\n",
              "    .dataframe tbody tr th:only-of-type {\n",
              "        vertical-align: middle;\n",
              "    }\n",
              "\n",
              "    .dataframe tbody tr th {\n",
              "        vertical-align: top;\n",
              "    }\n",
              "\n",
              "    .dataframe thead th {\n",
              "        text-align: right;\n",
              "    }\n",
              "</style>\n",
              "<table border=\"1\" class=\"dataframe\">\n",
              "  <thead>\n",
              "    <tr style=\"text-align: right;\">\n",
              "      <th></th>\n",
              "      <th>year</th>\n",
              "      <th>month</th>\n",
              "      <th>n1</th>\n",
              "      <th>n500</th>\n",
              "    </tr>\n",
              "  </thead>\n",
              "  <tbody>\n",
              "    <tr>\n",
              "      <th>0</th>\n",
              "      <td>1993</td>\n",
              "      <td>6</td>\n",
              "      <td>5.970000e+10</td>\n",
              "      <td>4.000000e+08</td>\n",
              "    </tr>\n",
              "    <tr>\n",
              "      <th>1</th>\n",
              "      <td>1993</td>\n",
              "      <td>11</td>\n",
              "      <td>1.240000e+11</td>\n",
              "      <td>5.000000e+08</td>\n",
              "    </tr>\n",
              "    <tr>\n",
              "      <th>2</th>\n",
              "      <td>1994</td>\n",
              "      <td>6</td>\n",
              "      <td>1.434000e+11</td>\n",
              "      <td>8.000000e+08</td>\n",
              "    </tr>\n",
              "    <tr>\n",
              "      <th>3</th>\n",
              "      <td>1994</td>\n",
              "      <td>11</td>\n",
              "      <td>1.700000e+11</td>\n",
              "      <td>1.200000e+09</td>\n",
              "    </tr>\n",
              "    <tr>\n",
              "      <th>4</th>\n",
              "      <td>1995</td>\n",
              "      <td>6</td>\n",
              "      <td>1.700000e+11</td>\n",
              "      <td>2.000000e+09</td>\n",
              "    </tr>\n",
              "  </tbody>\n",
              "</table>\n",
              "</div>"
            ],
            "text/plain": [
              "   year  month            n1          n500\n",
              "0  1993      6  5.970000e+10  4.000000e+08\n",
              "1  1993     11  1.240000e+11  5.000000e+08\n",
              "2  1994      6  1.434000e+11  8.000000e+08\n",
              "3  1994     11  1.700000e+11  1.200000e+09\n",
              "4  1995      6  1.700000e+11  2.000000e+09"
            ]
          },
          "metadata": {},
          "execution_count": 5
        }
      ]
    },
    {
      "cell_type": "markdown",
      "metadata": {
        "id": "eifoQteFnXgz"
      },
      "source": [
        "## **Fit/Predict**"
      ]
    },
    {
      "cell_type": "code",
      "metadata": {
        "colab": {
          "base_uri": "https://localhost:8080/",
          "height": 510
        },
        "id": "R5yDBOCqONnz",
        "outputId": "3ef84b7e-bff8-4f25-b5ec-bb6922879264"
      },
      "source": [
        "years = df.year + df.month / 12\n",
        "\n",
        "plt.figure(figsize=(16, 8))\n",
        "plt.xlabel('Year')\n",
        "plt.ylabel('Flop/s (log scale)')\n",
        "plt.plot(years, df.n1, 'o', label='Supercomputer #1')\n",
        "plt.plot(years, df.n500, 'o', label='Supercomputer #500')\n",
        "plt.legend()\n",
        "plt.yscale('log')"
      ],
      "execution_count": 6,
      "outputs": [
        {
          "output_type": "display_data",
          "data": {
            "image/png": "[encoded data removed]",
            "text/plain": [
              "<Figure size 1152x576 with 1 Axes>"
            ]
          },
          "metadata": {
            "needs_background": "light"
          }
        }
      ]
    },
    {
      "cell_type": "markdown",
      "metadata": {
        "id": "Z-1WaRcrWCHM"
      },
      "source": [
        "По графикам изменения вычистительной мощности топ-1 и топ-500 суперкомпьютеров в логарифмическом формате видно, что зависимость может быть не совсем линейная, поэтому будем обучать коэффициенты полинома 2-й степени."
      ]
    },
    {
      "cell_type": "code",
      "metadata": {
        "id": "bop6-ticnlAv"
      },
      "source": [
        "def date_to_months(df: pd.DataFrame, start_year: int, start_month: int):\n",
        "    months = 12 * (df.year - start_year) + df.month - start_month\n",
        "    return months\n",
        "\n",
        "\n",
        "def months_to_date(months: int, start_year: int, start_month: int):\n",
        "    months += start_month\n",
        "    year, month = months // 12 + start_year, months % 12\n",
        "    return year, month"
      ],
      "execution_count": 7,
      "outputs": []
    },
    {
      "cell_type": "code",
      "metadata": {
        "colab": {
          "base_uri": "https://localhost:8080/",
          "height": 206
        },
        "id": "dH1p6EfhpdXf",
        "outputId": "f5f8dedf-fad0-4b7e-d67e-56c15ecdd188"
      },
      "source": [
        "start_year = df.year.min()\n",
        "start_month = df[df.year == start_year].month.min()\n",
        "\n",
        "df['months'] = date_to_months(df, start_year, start_month)\n",
        "df.tail()"
      ],
      "execution_count": 8,
      "outputs": [
        {
          "output_type": "execute_result",
          "data": {
            "text/html": [
              "<div>\n",
              "<style scoped>\n",
              "    .dataframe tbody tr th:only-of-type {\n",
              "        vertical-align: middle;\n",
              "    }\n",
              "\n",
              "    .dataframe tbody tr th {\n",
              "        vertical-align: top;\n",
              "    }\n",
              "\n",
              "    .dataframe thead th {\n",
              "        text-align: right;\n",
              "    }\n",
              "</style>\n",
              "<table border=\"1\" class=\"dataframe\">\n",
              "  <thead>\n",
              "    <tr style=\"text-align: right;\">\n",
              "      <th></th>\n",
              "      <th>year</th>\n",
              "      <th>month</th>\n",
              "      <th>n1</th>\n",
              "      <th>n500</th>\n",
              "      <th>months</th>\n",
              "    </tr>\n",
              "  </thead>\n",
              "  <tbody>\n",
              "    <tr>\n",
              "      <th>52</th>\n",
              "      <td>2019</td>\n",
              "      <td>6</td>\n",
              "      <td>1.486000e+17</td>\n",
              "      <td>1.000000e+15</td>\n",
              "      <td>312</td>\n",
              "    </tr>\n",
              "    <tr>\n",
              "      <th>53</th>\n",
              "      <td>2019</td>\n",
              "      <td>11</td>\n",
              "      <td>1.486000e+17</td>\n",
              "      <td>1.100000e+15</td>\n",
              "      <td>317</td>\n",
              "    </tr>\n",
              "    <tr>\n",
              "      <th>54</th>\n",
              "      <td>2020</td>\n",
              "      <td>6</td>\n",
              "      <td>4.155000e+17</td>\n",
              "      <td>1.200000e+15</td>\n",
              "      <td>324</td>\n",
              "    </tr>\n",
              "    <tr>\n",
              "      <th>55</th>\n",
              "      <td>2020</td>\n",
              "      <td>11</td>\n",
              "      <td>4.420000e+17</td>\n",
              "      <td>1.300000e+15</td>\n",
              "      <td>329</td>\n",
              "    </tr>\n",
              "    <tr>\n",
              "      <th>56</th>\n",
              "      <td>2021</td>\n",
              "      <td>6</td>\n",
              "      <td>4.420000e+17</td>\n",
              "      <td>1.500000e+15</td>\n",
              "      <td>336</td>\n",
              "    </tr>\n",
              "  </tbody>\n",
              "</table>\n",
              "</div>"
            ],
            "text/plain": [
              "    year  month            n1          n500  months\n",
              "52  2019      6  1.486000e+17  1.000000e+15     312\n",
              "53  2019     11  1.486000e+17  1.100000e+15     317\n",
              "54  2020      6  4.155000e+17  1.200000e+15     324\n",
              "55  2020     11  4.420000e+17  1.300000e+15     329\n",
              "56  2021      6  4.420000e+17  1.500000e+15     336"
            ]
          },
          "metadata": {},
          "execution_count": 8
        }
      ]
    },
    {
      "cell_type": "code",
      "metadata": {
        "id": "CXsnw29BgcZ1"
      },
      "source": [
        "y_log_n1 = np.log(df.n1)\n",
        "y_log_n500 = np.log(df.n500)"
      ],
      "execution_count": 9,
      "outputs": []
    },
    {
      "cell_type": "code",
      "metadata": {
        "id": "hkEbT2rOghcd"
      },
      "source": [
        "coefs_1 = np.polyfit(df.months, y_log_n1, deg=2)\n",
        "coefs_500 = np.polyfit(df.months, y_log_n500, deg=2)"
      ],
      "execution_count": 10,
      "outputs": []
    },
    {
      "cell_type": "code",
      "metadata": {
        "id": "U-uS1aVX5rFQ"
      },
      "source": [
        "def get_y(x, coefs):\n",
        "    y = np.asarray([\n",
        "        sum((x_i ** power) * coef for power, coef in enumerate(coefs[::-1]))\n",
        "        for x_i in x\n",
        "    ])\n",
        "    return y"
      ],
      "execution_count": 11,
      "outputs": []
    },
    {
      "cell_type": "code",
      "metadata": {
        "id": "12RpSYY9Ep_O"
      },
      "source": [
        "def generate_test(df: pd.DataFrame, start_year: int, start_month: int,\n",
        "                  last_year: int):\n",
        "    while True:\n",
        "        values = df.months.values\n",
        "        months = values[-1] + values[-2] - values[-3]\n",
        "        year, month = months_to_date(months, start_year, start_month)\n",
        "        if year > last_year:\n",
        "            break\n",
        "        df = df.append({'year': year, 'month': month, 'months': months},\n",
        "                       ignore_index=True)\n",
        "\n",
        "    new_df = df[['year', 'month', 'months']]\n",
        "    return new_df"
      ],
      "execution_count": 12,
      "outputs": []
    },
    {
      "cell_type": "code",
      "metadata": {
        "colab": {
          "base_uri": "https://localhost:8080/",
          "height": 206
        },
        "id": "k1BA7ixxHBCA",
        "outputId": "7d770653-8f55-4e9f-f6a7-919bacc0b3c1"
      },
      "source": [
        "df_test = generate_test(df, start_year, start_month, last_year=2025)\n",
        "df_test.tail()"
      ],
      "execution_count": 13,
      "outputs": [
        {
          "output_type": "execute_result",
          "data": {
            "text/html": [
              "<div>\n",
              "<style scoped>\n",
              "    .dataframe tbody tr th:only-of-type {\n",
              "        vertical-align: middle;\n",
              "    }\n",
              "\n",
              "    .dataframe tbody tr th {\n",
              "        vertical-align: top;\n",
              "    }\n",
              "\n",
              "    .dataframe thead th {\n",
              "        text-align: right;\n",
              "    }\n",
              "</style>\n",
              "<table border=\"1\" class=\"dataframe\">\n",
              "  <thead>\n",
              "    <tr style=\"text-align: right;\">\n",
              "      <th></th>\n",
              "      <th>year</th>\n",
              "      <th>month</th>\n",
              "      <th>months</th>\n",
              "    </tr>\n",
              "  </thead>\n",
              "  <tbody>\n",
              "    <tr>\n",
              "      <th>61</th>\n",
              "      <td>2023.0</td>\n",
              "      <td>11.0</td>\n",
              "      <td>365.0</td>\n",
              "    </tr>\n",
              "    <tr>\n",
              "      <th>62</th>\n",
              "      <td>2024.0</td>\n",
              "      <td>6.0</td>\n",
              "      <td>372.0</td>\n",
              "    </tr>\n",
              "    <tr>\n",
              "      <th>63</th>\n",
              "      <td>2024.0</td>\n",
              "      <td>11.0</td>\n",
              "      <td>377.0</td>\n",
              "    </tr>\n",
              "    <tr>\n",
              "      <th>64</th>\n",
              "      <td>2025.0</td>\n",
              "      <td>6.0</td>\n",
              "      <td>384.0</td>\n",
              "    </tr>\n",
              "    <tr>\n",
              "      <th>65</th>\n",
              "      <td>2025.0</td>\n",
              "      <td>11.0</td>\n",
              "      <td>389.0</td>\n",
              "    </tr>\n",
              "  </tbody>\n",
              "</table>\n",
              "</div>"
            ],
            "text/plain": [
              "      year  month  months\n",
              "61  2023.0   11.0   365.0\n",
              "62  2024.0    6.0   372.0\n",
              "63  2024.0   11.0   377.0\n",
              "64  2025.0    6.0   384.0\n",
              "65  2025.0   11.0   389.0"
            ]
          },
          "metadata": {},
          "execution_count": 13
        }
      ]
    },
    {
      "cell_type": "code",
      "metadata": {
        "id": "TXBOs7iZ5acW"
      },
      "source": [
        "df_test['n1'] = np.exp(get_y(df_test.months, coefs_1))\n",
        "df_test['n500'] = np.exp(get_y(df_test.months, coefs_500))"
      ],
      "execution_count": 14,
      "outputs": []
    },
    {
      "cell_type": "code",
      "metadata": {
        "colab": {
          "base_uri": "https://localhost:8080/",
          "height": 506
        },
        "id": "RNdgB7koM9Kz",
        "outputId": "119983f4-d586-49e3-ccda-9152003708ca"
      },
      "source": [
        "num_preds = len(df_test) - len(df)\n",
        "years = df_test.year + df_test.month / 12\n",
        "\n",
        "plt.figure(figsize=(16, 8))\n",
        "plt.xlabel('Year')\n",
        "plt.ylabel('Flop/s (log scale)')\n",
        "plt.yscale(\"log\")\n",
        "\n",
        "plt.plot(years[:-num_preds], df.n1.values, label='#1')\n",
        "plt.plot(years[:-num_preds], df.n500.values, label='#500')\n",
        "plt.plot(years, df_test.n1, linestyle='--', label='Predicted #1')\n",
        "plt.plot(years, df_test.n500, linestyle='--', label='Predicted #500')\n",
        "\n",
        "plt.legend();"
      ],
      "execution_count": 15,
      "outputs": [
        {
          "output_type": "display_data",
          "data": {
            "image/png": "[encoded data removed]",
            "text/plain": [
              "<Figure size 1152x576 with 1 Axes>"
            ]
          },
          "metadata": {
            "needs_background": "light"
          }
        }
      ]
    },
    {
      "cell_type": "code",
      "metadata": {
        "colab": {
          "base_uri": "https://localhost:8080/",
          "height": 206
        },
        "id": "bYQfanXXL3pS",
        "outputId": "8ec0c1dd-e17d-451d-a34d-ffd1a7af1f6a"
      },
      "source": [
        "df_test.tail()"
      ],
      "execution_count": 16,
      "outputs": [
        {
          "output_type": "execute_result",
          "data": {
            "text/html": [
              "<div>\n",
              "<style scoped>\n",
              "    .dataframe tbody tr th:only-of-type {\n",
              "        vertical-align: middle;\n",
              "    }\n",
              "\n",
              "    .dataframe tbody tr th {\n",
              "        vertical-align: top;\n",
              "    }\n",
              "\n",
              "    .dataframe thead th {\n",
              "        text-align: right;\n",
              "    }\n",
              "</style>\n",
              "<table border=\"1\" class=\"dataframe\">\n",
              "  <thead>\n",
              "    <tr style=\"text-align: right;\">\n",
              "      <th></th>\n",
              "      <th>year</th>\n",
              "      <th>month</th>\n",
              "      <th>months</th>\n",
              "      <th>n1</th>\n",
              "      <th>n500</th>\n",
              "    </tr>\n",
              "  </thead>\n",
              "  <tbody>\n",
              "    <tr>\n",
              "      <th>61</th>\n",
              "      <td>2023.0</td>\n",
              "      <td>11.0</td>\n",
              "      <td>365.0</td>\n",
              "      <td>1.722476e+18</td>\n",
              "      <td>4.095866e+15</td>\n",
              "    </tr>\n",
              "    <tr>\n",
              "      <th>62</th>\n",
              "      <td>2024.0</td>\n",
              "      <td>6.0</td>\n",
              "      <td>372.0</td>\n",
              "      <td>2.188423e+18</td>\n",
              "      <td>4.833028e+15</td>\n",
              "    </tr>\n",
              "    <tr>\n",
              "      <th>63</th>\n",
              "      <td>2024.0</td>\n",
              "      <td>11.0</td>\n",
              "      <td>377.0</td>\n",
              "      <td>2.590737e+18</td>\n",
              "      <td>5.420994e+15</td>\n",
              "    </tr>\n",
              "    <tr>\n",
              "      <th>64</th>\n",
              "      <td>2025.0</td>\n",
              "      <td>6.0</td>\n",
              "      <td>384.0</td>\n",
              "      <td>3.270872e+18</td>\n",
              "      <td>6.335961e+15</td>\n",
              "    </tr>\n",
              "    <tr>\n",
              "      <th>65</th>\n",
              "      <td>2025.0</td>\n",
              "      <td>11.0</td>\n",
              "      <td>389.0</td>\n",
              "      <td>3.854785e+18</td>\n",
              "      <td>7.058544e+15</td>\n",
              "    </tr>\n",
              "  </tbody>\n",
              "</table>\n",
              "</div>"
            ],
            "text/plain": [
              "      year  month  months            n1          n500\n",
              "61  2023.0   11.0   365.0  1.722476e+18  4.095866e+15\n",
              "62  2024.0    6.0   372.0  2.188423e+18  4.833028e+15\n",
              "63  2024.0   11.0   377.0  2.590737e+18  5.420994e+15\n",
              "64  2025.0    6.0   384.0  3.270872e+18  6.335961e+15\n",
              "65  2025.0   11.0   389.0  3.854785e+18  7.058544e+15"
            ]
          },
          "metadata": {},
          "execution_count": 16
        }
      ]
    },
    {
      "cell_type": "code",
      "metadata": {
        "colab": {
          "base_uri": "https://localhost:8080/"
        },
        "id": "-OjrGI2yg4xl",
        "outputId": "bf0f0342-c7c3-4585-9543-d5053d00020c"
      },
      "source": [
        "print(f'Top1 performance in 11/2025: ' \\\n",
        "      f'{df_test.n1.values[-1] / unit_mapping[\"EFlop/s\"]:.2f} EFlop/s.')"
      ],
      "execution_count": 17,
      "outputs": [
        {
          "output_type": "stream",
          "name": "stdout",
          "text": [
            "Top1 performance in 11/2025: 3.85 EFlop/s.\n"
          ]
        }
      ]
    },
    {
      "cell_type": "code",
      "metadata": {
        "colab": {
          "base_uri": "https://localhost:8080/"
        },
        "id": "k8OOYuyvg9v1",
        "outputId": "3f54bced-97e3-4ac3-d500-542bf3711438"
      },
      "source": [
        "print(f'Top500 performance in 11/2025: ' \\\n",
        "      f'{df_test.n500.values[-1] / unit_mapping[\"PFlop/s\"]:.2f} PFlop/s.')"
      ],
      "execution_count": 18,
      "outputs": [
        {
          "output_type": "stream",
          "name": "stdout",
          "text": [
            "Top500 performance in 11/2025: 7.06 PFlop/s.\n"
          ]
        }
      ]
    },
    {
      "cell_type": "markdown",
      "metadata": {
        "id": "YJ5HS4IhRFlI"
      },
      "source": [
        "# **Part 2. Power Consumption**"
      ]
    },
    {
      "cell_type": "code",
      "metadata": {
        "id": "xeK7PqpsRLvQ"
      },
      "source": [
        "URL = 'https://www.top500.org/lists/top500/list/2021/06/?page='\n",
        "\n",
        "response = requests.get(URL + '1')\n",
        "root = etree.fromstring(response.text, parser=etree.HTMLParser())"
      ],
      "execution_count": 19,
      "outputs": []
    },
    {
      "cell_type": "code",
      "metadata": {
        "colab": {
          "base_uri": "https://localhost:8080/"
        },
        "id": "ewnMgmC3XgFh",
        "outputId": "68cac96e-7b84-4c62-b8c2-8b043e60fef7"
      },
      "source": [
        "power_consumption_kwh = 0\n",
        "\n",
        "for page_idx in range(1, 6):\n",
        "    response = requests.get(URL + str(page_idx))\n",
        "    root = etree.fromstring(response.text, parser=etree.HTMLParser())\n",
        "    table = root.xpath('//table')[0]\n",
        "\n",
        "    for x in table.iterchildren():\n",
        "        values = list(x.iterfind('td'))\n",
        "        if values:\n",
        "            try:\n",
        "                power_kwh = float(values[-1].text.replace(',', ''))\n",
        "                power_consumption_kwh += power_kwh\n",
        "            except:\n",
        "                continue\n",
        "\n",
        "print(f'Top-500 supercomputers total power consumption: ' \\\n",
        "      f'{power_consumption_kwh:.1f} kWh.')"
      ],
      "execution_count": 20,
      "outputs": [
        {
          "output_type": "stream",
          "name": "stdout",
          "text": [
            "Top-500 supercomputers total power consumption: 344004.0 kWh.\n"
          ]
        }
      ]
    },
    {
      "cell_type": "markdown",
      "metadata": {
        "id": "WmaoT8Fea0l1"
      },
      "source": [
        "According to https://www.bp.com/content/dam/bp/business-sites/en/global/corporate/pdfs/energy-economics/statistical-review/bp-stats-review-2021-full-report.pdf (page 63), total world energy production for year 2020 is 26823.2 TWh, which in kWh will be:"
      ]
    },
    {
      "cell_type": "code",
      "metadata": {
        "id": "zRRnc8xYZuRX"
      },
      "source": [
        "total_power_production_kwh = 26823.2 * 1e9"
      ],
      "execution_count": 21,
      "outputs": []
    },
    {
      "cell_type": "code",
      "metadata": {
        "colab": {
          "base_uri": "https://localhost:8080/"
        },
        "id": "Z0_MOVRmcF0w",
        "outputId": "59eb9874-1f0c-4908-8a4b-03e12147c648"
      },
      "source": [
        "print(f'{power_consumption_kwh / total_power_production_kwh * 100:.9f}%')"
      ],
      "execution_count": 22,
      "outputs": [
        {
          "output_type": "stream",
          "name": "stdout",
          "text": [
            "0.000001282%\n"
          ]
        }
      ]
    },
    {
      "cell_type": "code",
      "metadata": {
        "id": "LyNyEbgrcVLK"
      },
      "source": [
        ""
      ],
      "execution_count": 22,
      "outputs": []
    }
  ]
}