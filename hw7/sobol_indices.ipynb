{
  "nbformat": 4,
  "nbformat_minor": 0,
  "metadata": {
    "colab": {
      "name": "sobol_indices.ipynb",
      "provenance": [],
      "collapsed_sections": []
    },
    "kernelspec": {
      "name": "python3",
      "display_name": "Python 3"
    },
    "language_info": {
      "name": "python"
    }
  },
  "cells": [
    {
      "cell_type": "markdown",
      "metadata": {
        "id": "4BneexTo-yYr"
      },
      "source": [
        "# Установка и импорт библиотек"
      ]
    },
    {
      "cell_type": "code",
      "metadata": {
        "id": "GpLx30GDxmO1"
      },
      "source": [
        "!pip install -q SALib"
      ],
      "execution_count": 1,
      "outputs": []
    },
    {
      "cell_type": "code",
      "metadata": {
        "id": "rlqrtdOOyEU_"
      },
      "source": [
        "import time\n",
        "\n",
        "import numpy as np\n",
        "from numba import njit\n",
        "from SALib.analyze import sobol\n",
        "from SALib.sample import saltelli"
      ],
      "execution_count": 2,
      "outputs": []
    },
    {
      "cell_type": "markdown",
      "metadata": {
        "id": "kb0NebfTFtuh"
      },
      "source": [
        "# 1 Анализ чувствительности, проверка сходимости, измерение таймингов"
      ]
    },
    {
      "cell_type": "code",
      "metadata": {
        "id": "OhDGfNVLymvW"
      },
      "source": [
        "def evaluate_model(x: np.ndarray):\n",
        "    result = x[0] ** 5 \\\n",
        "             - x[0]**4 * x[1] \\\n",
        "             + x[0]**3 * x[1]**2 * x[2] \\\n",
        "             - x[0]**2 * x[1]**3 * x[2]**2 * x[3] \\\n",
        "             + x[0]    * x[1]**4 * x[2]**3 * x[3]**2 * x[4]\n",
        "    return result"
      ],
      "execution_count": 3,
      "outputs": []
    },
    {
      "cell_type": "code",
      "metadata": {
        "id": "kTRqwA1SzQA1"
      },
      "source": [
        "NUM_ITERATIONS = 2 ** 17\n",
        "NUM_VARIABLES = 5"
      ],
      "execution_count": 4,
      "outputs": []
    },
    {
      "cell_type": "code",
      "metadata": {
        "id": "PXZKzvIUy-nd"
      },
      "source": [
        "problem = {\n",
        "    \"num_vars\": NUM_VARIABLES,\n",
        "    \"names\": [f\"x{i + 1}\" for i in range(NUM_VARIABLES)],\n",
        "    \"bounds\": [[-1.0, 1.0] for _ in range(NUM_VARIABLES)]\n",
        "}"
      ],
      "execution_count": 5,
      "outputs": []
    },
    {
      "cell_type": "code",
      "metadata": {
        "colab": {
          "base_uri": "https://localhost:8080/"
        },
        "id": "KXUOtQ0MzQx1",
        "outputId": "cdad88de-d1da-488a-c867-3b9bf5aafa1e"
      },
      "source": [
        "start_time = time.time()\n",
        "\n",
        "param_values = saltelli.sample(problem, NUM_ITERATIONS)\n",
        "\n",
        "print(f\"Samples generation took {time.time() - start_time:.6f} seconds\")\n",
        "print(f\"param_values shape: {param_values.shape}\")"
      ],
      "execution_count": 6,
      "outputs": [
        {
          "output_type": "stream",
          "name": "stdout",
          "text": [
            "Samples generation took 14.154654 seconds\n",
            "param_values shape: (1572864, 5)\n"
          ]
        }
      ]
    },
    {
      "cell_type": "code",
      "metadata": {
        "id": "kaRHn1FtzqSM"
      },
      "source": [
        "y = np.zeros([param_values.shape[0]])"
      ],
      "execution_count": 7,
      "outputs": []
    },
    {
      "cell_type": "code",
      "metadata": {
        "colab": {
          "base_uri": "https://localhost:8080/"
        },
        "id": "9HGivm9lzusU",
        "outputId": "40e2a16c-2666-4b50-ce80-98799cc0997d"
      },
      "source": [
        "start_time = time.time()\n",
        "\n",
        "for i, x in enumerate(param_values):\n",
        "    y[i] = evaluate_model(x)\n",
        "\n",
        "eval_time = time.time() - start_time\n",
        "\n",
        "print(f\"Model evaluation took {eval_time:.6f} seconds\")"
      ],
      "execution_count": 8,
      "outputs": [
        {
          "output_type": "stream",
          "name": "stdout",
          "text": [
            "Model evaluation took 13.352504 seconds\n"
          ]
        }
      ]
    },
    {
      "cell_type": "code",
      "metadata": {
        "colab": {
          "base_uri": "https://localhost:8080/"
        },
        "id": "a3zOp2RNzwYz",
        "outputId": "32433a10-e9f9-434f-81b0-73a623bcf160"
      },
      "source": [
        "start_time = time.time()\n",
        "\n",
        "sobol_indices = sobol.analyze(problem, y)\n",
        "\n",
        "print(f\"Sobol analysis took {time.time() - start_time:.6f} seconds\")"
      ],
      "execution_count": 9,
      "outputs": [
        {
          "output_type": "stream",
          "name": "stdout",
          "text": [
            "Sobol analysis took 9.898124 seconds\n"
          ]
        }
      ]
    },
    {
      "cell_type": "code",
      "metadata": {
        "id": "pMH8HsevEDF4"
      },
      "source": [
        "def print_sobol_analysis_results(results, num_variables: int) -> None:\n",
        "    print(\"First-order indices:\")\n",
        "    print(results[\"S1\"])\n",
        "\n",
        "    print(\"\\nSecond-order indices:\")\n",
        "    for i in range(num_variables):\n",
        "        for j in range(i + 1, num_variables):\n",
        "            print(f\"x{i + 1}-x{j + 1}: {results['S2'][i, j]}\")\n",
        "    \n",
        "    print(\"\\nTotal indices for each variable:\")\n",
        "    print(results[\"ST\"])"
      ],
      "execution_count": 10,
      "outputs": []
    },
    {
      "cell_type": "code",
      "metadata": {
        "colab": {
          "base_uri": "https://localhost:8080/"
        },
        "id": "Z_eaZcRW0iHC",
        "outputId": "826c8619-2036-4de8-ffad-a2e3867fe353"
      },
      "source": [
        "print_sobol_analysis_results(sobol_indices, NUM_VARIABLES)"
      ],
      "execution_count": 11,
      "outputs": [
        {
          "output_type": "stream",
          "name": "stdout",
          "text": [
            "First-order indices:\n",
            "[6.50612740e-01 9.58546455e-02 2.04748855e-04 2.46264223e-05\n",
            " 1.06867457e-04]\n",
            "\n",
            "Second-order indices:\n",
            "x1-x2: 0.16987438126484783\n",
            "x1-x3: 0.03826275403003994\n",
            "x1-x4: 0.00020946561717304194\n",
            "x1-x5: 0.0004444833633367216\n",
            "x2-x3: -0.00011958479017451536\n",
            "x2-x4: 0.004237998244049233\n",
            "x2-x5: -7.914446571177364e-05\n",
            "x3-x4: -4.5972631285220394e-05\n",
            "x3-x5: 0.0002582995960626094\n",
            "x4-x5: 0.0004137380424572515\n",
            "\n",
            "Total indices for each variable:\n",
            "[0.89695428 0.31024338 0.07663299 0.01500546 0.00255642]\n"
          ]
        }
      ]
    },
    {
      "cell_type": "markdown",
      "metadata": {
        "id": "h3b0Y-_TF2uG"
      },
      "source": [
        "# 2 Ускорение с помощью `numba`"
      ]
    },
    {
      "cell_type": "code",
      "metadata": {
        "id": "xggmT76G09Qs"
      },
      "source": [
        "@njit\n",
        "def evaluate_model(x: np.ndarray):\n",
        "    result = x[0]**5 \\\n",
        "             - x[0]**4 * x[1] \\\n",
        "             + x[0]**3 * x[1]**2 * x[2] \\\n",
        "             - x[0]**2 * x[1]**3 * x[2]**2 * x[3] \\\n",
        "             + x[0]    * x[1]**4 * x[2]**3 * x[3]**2 * x[4]\n",
        "    return result"
      ],
      "execution_count": 12,
      "outputs": []
    },
    {
      "cell_type": "code",
      "metadata": {
        "colab": {
          "base_uri": "https://localhost:8080/"
        },
        "id": "mymUlCKtGAh0",
        "outputId": "27403885-8e17-4683-d92d-c4dead274f6d"
      },
      "source": [
        "start_time = time.time()\n",
        "\n",
        "for i, x in enumerate(param_values):\n",
        "    y[i] = evaluate_model(x)\n",
        "\n",
        "eval_time_numba = time.time() - start_time\n",
        "\n",
        "print(f\"Model evaluation took {eval_time_numba:.6f} seconds\")"
      ],
      "execution_count": 13,
      "outputs": [
        {
          "output_type": "stream",
          "name": "stdout",
          "text": [
            "Model evaluation took 1.450562 seconds\n"
          ]
        }
      ]
    },
    {
      "cell_type": "code",
      "metadata": {
        "colab": {
          "base_uri": "https://localhost:8080/"
        },
        "id": "P8Bk1kw3Gzc5",
        "outputId": "5ddcb6d6-52c2-47fa-9d9a-8d832d8d5593"
      },
      "source": [
        "print(f\"Using numba resulted in acceleration by \"\n",
        "      f\"{eval_time / eval_time_numba:.2f} times.\")"
      ],
      "execution_count": 14,
      "outputs": [
        {
          "output_type": "stream",
          "name": "stdout",
          "text": [
            "Using numba resulted in acceleration by 9.21 times.\n"
          ]
        }
      ]
    },
    {
      "cell_type": "code",
      "metadata": {
        "id": "DziBra5uHz7s"
      },
      "source": [
        ""
      ],
      "execution_count": 14,
      "outputs": []
    }
  ]
}